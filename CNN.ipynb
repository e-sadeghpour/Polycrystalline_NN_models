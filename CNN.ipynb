{
 "cells": [
  {
   "cell_type": "code",
   "execution_count": 2,
   "id": "315c5dd5",
   "metadata": {},
   "outputs": [],
   "source": [
    "#importing the required libraries\n",
    "import numpy as np\n",
    "import pandas as pd\n",
    "#libraries for plotting \n",
    "import seaborn as sns\n",
    "import matplotlib.pyplot as plt\n",
    "#libraries for neural network models\n",
    "import tensorflow as tf\n",
    "from tensorflow import keras\n",
    "from tensorflow.keras import layers"
   ]
  },
  {
   "cell_type": "code",
   "execution_count": 3,
   "id": "b406f2ce",
   "metadata": {},
   "outputs": [],
   "source": [
    "################################################################################\n",
    "# loading data\n",
    "################################################################################\n",
    "##reading Miller indeces of voxel-based RVEs for CNN model\n",
    "#number of datapoints\n",
    "num_of_RVEs=2000\n",
    "#number of voxel per each side\n",
    "dim=20\n",
    "#directory of input files\n",
    "path=''\n",
    "# X is the input of the CNN model\n",
    "X=np.zeros((num_of_RVEs,dim,dim,dim,3))\n",
    "for RVE_num in np.arange(num_of_RVEs):\n",
    "    #reading the Miller_index \n",
    "    Miller_idx=np.loadtxt(path+'Miller_index_RVE'+str(RVE_num+1)+'.csv',delimiter=',')\n",
    "    X[RVE_num,:,:,:,:]=Miller_idx.reshape((1,dim,dim,dim,3))\n",
    "    \n",
    "##reading output of simulations (y)\n",
    "y=np.loadtxt(path+'stress_output.csv',delimiter=',')"
   ]
  },
  {
   "cell_type": "code",
   "execution_count": 8,
   "id": "728c0e68",
   "metadata": {},
   "outputs": [],
   "source": [
    "################################################################################\n",
    "# splitting data into train and test batches\n",
    "################################################################################\n",
    "#import train_test_split module\n",
    "from sklearn.model_selection import train_test_split\n",
    "#splitting, here 25% of data are used for testing\n",
    "X_train, X_test, y_train, y_test = train_test_split(X[:,:,:,:,0:2],y,test_size=0.25,random_state=10)"
   ]
  },
  {
   "cell_type": "code",
   "execution_count": null,
   "id": "57845f5e",
   "metadata": {},
   "outputs": [],
   "source": [
    "################################################################################\n",
    "# building the VGNNet model\n",
    "################################################################################\n",
    "from keras.models import Sequential\n",
    "from keras.layers import Dense, Flatten, Conv3D, MaxPooling3D, Dropout, BatchNormalization\n",
    "\n",
    "model = Sequential()\n",
    "\n",
    "model.add(Conv3D(64, kernel_size=(3, 3, 3), activation='relu', input_shape=(dim, dim, dim, 2)))\n",
    "model.add(Conv3D(64, kernel_size=(3, 3, 3), activation='relu'))\n",
    "model.add(MaxPooling3D(pool_size=(2, 2, 2)))\n",
    "\n",
    "\n",
    "model.add(Conv3D(128, kernel_size=(3, 3, 3), activation='relu'))\n",
    "model.add(Conv3D(128, kernel_size=(3, 3, 3), activation='relu'))\n",
    "model.add(MaxPooling3D(pool_size=(2, 2, 2)))\n",
    "\n",
    "\n",
    "model.add(Conv3D(256, kernel_size=(3, 3, 3), activation='relu'))\n",
    "model.add(Conv3D(256, kernel_size=(3, 3, 3), activation='relu'))\n",
    "model.add(Conv3D(256, kernel_size=(3, 3, 3), activation='relu'))\n",
    "model.add(MaxPooling3D(pool_size=(2, 2, 2)))\n",
    "\n",
    "\n",
    "\n",
    "model.add(Dropout(0.5))\n",
    "\n",
    "model.add(Flatten())\n",
    "\n",
    "model.add(Dense(1024, activation='relu'))\n",
    "model.add(Dense(1024, activation='relu'))\n",
    "model.add(Dense(512, activation='relu'))\n",
    "\n",
    "\n",
    "model.add(Dense(1, activation='relu'))\n",
    "model.summary()"
   ]
  },
  {
   "cell_type": "code",
   "execution_count": 10,
   "id": "cd0f891a",
   "metadata": {},
   "outputs": [],
   "source": [
    "################################################################################\n",
    "# compiling the model\n",
    "################################################################################\n",
    "## parameters fo training\n",
    "initial_learning_rate = 0.0002\n",
    "lr_schedule = keras.optimizers.schedules.ExponentialDecay(\n",
    "    initial_learning_rate, decay_steps=100000, decay_rate=0.96, staircase=True)\n",
    "\n",
    "model.compile(loss=\"mse\",\n",
    "   optimizer=keras.optimizers.Adam(learning_rate=lr_schedule))"
   ]
  },
  {
   "cell_type": "code",
   "execution_count": 1,
   "id": "7e85cd9d",
   "metadata": {},
   "outputs": [],
   "source": [
    "################################################################################\n",
    "# training the model\n",
    "################################################################################\n",
    "model.fit(x=X_train,y=y_train,\n",
    "          validation_data=(X_test,y_test),\n",
    "          epochs=100)"
   ]
  },
  {
   "cell_type": "code",
   "execution_count": null,
   "id": "de8e3aef",
   "metadata": {},
   "outputs": [],
   "source": [
    "## calculating loss\n",
    "losses = pd.DataFrame(model.history.history)\n",
    "losses.plot()"
   ]
  },
  {
   "cell_type": "code",
   "execution_count": null,
   "id": "0568663a",
   "metadata": {},
   "outputs": [],
   "source": [
    "## Evaluation of the model\n",
    "from sklearn.metrics import mean_squared_error,mean_absolute_error,explained_variance_score\n",
    "predictions = model.predict(X_test)\n",
    "print(mean_absolute_error(y_test,predictions))\n",
    "print(np.sqrt(mean_squared_error(y_test,predictions)))\n",
    "print(explained_variance_score(y_test,predictions))"
   ]
  },
  {
   "cell_type": "code",
   "execution_count": null,
   "id": "f4d0a8bc",
   "metadata": {},
   "outputs": [],
   "source": [
    "## plotting performance for evaluation dataset\n",
    "plt.figure(figsize=(9,9))\n",
    "plt.rc('xtick', labelsize=16)\n",
    "plt.rc('ytick', labelsize=16)\n",
    "plt.xlabel('Actual stress (MPa)', fontsize=20)\n",
    "plt.ylabel('Predicted stress (MPa)', fontsize=20)\n",
    "plt.scatter(y_test,predictions)\n",
    "plt.plot(y_test,y_test,'r')\n",
    "plt.savefig('CNN_uni.jpg')"
   ]
  },
  {
   "cell_type": "code",
   "execution_count": null,
   "id": "6669da52",
   "metadata": {},
   "outputs": [],
   "source": [
    "## plotting performance for training dataset\n",
    "plt.figure(figsize=(12,6))\n",
    "predictions_train = model.predict(X_train)\n",
    "plt.scatter(y_train,predictions_train)\n",
    "plt.plot(y_train,y_train,'r')"
   ]
  },
  {
   "cell_type": "code",
   "execution_count": null,
   "id": "168764a4",
   "metadata": {},
   "outputs": [],
   "source": []
  },
  {
   "cell_type": "code",
   "execution_count": null,
   "id": "5349ebe3",
   "metadata": {},
   "outputs": [],
   "source": []
  }
 ],
 "metadata": {
  "kernelspec": {
   "display_name": "Python 3",
   "language": "python",
   "name": "python3"
  },
  "language_info": {
   "codemirror_mode": {
    "name": "ipython",
    "version": 3
   },
   "file_extension": ".py",
   "mimetype": "text/x-python",
   "name": "python",
   "nbconvert_exporter": "python",
   "pygments_lexer": "ipython3",
   "version": "3.8.8"
  }
 },
 "nbformat": 4,
 "nbformat_minor": 5
}
