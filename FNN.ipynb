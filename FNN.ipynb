{
 "cells": [
  {
   "cell_type": "code",
   "execution_count": 1,
   "id": "f8700fa6",
   "metadata": {},
   "outputs": [],
   "source": [
    "#importing the required libraries\n",
    "import numpy as np\n",
    "import pandas as pd\n",
    "#libraries for plotting \n",
    "import seaborn as sns\n",
    "import matplotlib.pyplot as plt\n",
    "#libraries for neural network models\n",
    "import tensorflow as tf\n",
    "from tensorflow import keras\n",
    "from tensorflow.keras import layers"
   ]
  },
  {
   "cell_type": "code",
   "execution_count": 3,
   "id": "4bfe9dab",
   "metadata": {},
   "outputs": [],
   "source": [
    "##reading input files for FNN model (X)\n",
    "num_of_RVEs=2000\n",
    "num_of_descriptors=10\n",
    "#directory of input files\n",
    "path=''\n",
    "## intialize input matrix X\n",
    "X=np.zeros((num_of_RVEs,num_of_descriptors))\n",
    "for RVE_num in np.arange(num_of_RVEs):\n",
    "    X[RVE_num,:]=np.loadtxt(path+'FNN_inputs_RVE_'+str(RVE_num+1)+'.csv',delimiter=',')"
   ]
  },
  {
   "cell_type": "code",
   "execution_count": 25,
   "id": "48946e9b",
   "metadata": {},
   "outputs": [],
   "source": [
    "##reading output of simulations (y)\n",
    "y=np.loadtxt(path+'stress_output.csv',delimiter=',')"
   ]
  },
  {
   "cell_type": "code",
   "execution_count": null,
   "id": "aa8117ae",
   "metadata": {},
   "outputs": [],
   "source": [
    "##bulding a DataFrame from the input and output data for the purpose of feature engineering\n",
    "labels='mu_AR std_AR mu_Eq_Dia std_Eq_Dia  ave_num_neighbor coef_uni coef_100 coef_110 coef_std_100 coef_std_110 hw_100 hw_110'\n",
    "df=pd.DataFrame(X,columns=labels.split())\n",
    "\n",
    "##add stress results to the dataframe\n",
    "df['stress']=y\n",
    "\n",
    "##checking the dataframe\n",
    "df.describe()"
   ]
  },
  {
   "cell_type": "code",
   "execution_count": null,
   "id": "a7fbd2cb",
   "metadata": {},
   "outputs": [],
   "source": [
    "###Feature engineering\n",
    "#Correation between stress and input parameters\n",
    "df.corr()['stress'].sort_values()\n",
    "corr_plot=pd.DataFrame(df.corr()['stress'].sort_values())\n",
    "corr_plot=corr_plot.drop(['stress'])\n",
    "plt.figure(figsize=(12,6))\n",
    "sns.barplot(x=corr_plot.index, y='stress',data=corr_plot,palette='coolwarm')\n",
    "plt.savefig('Correlation.jpg')"
   ]
  },
  {
   "cell_type": "code",
   "execution_count": 26,
   "id": "1421fcce",
   "metadata": {},
   "outputs": [],
   "source": [
    "##preprocessing input data for FNN model; splitting\n",
    "from sklearn.model_selection import train_test_split\n",
    "##data splitting\n",
    "X_train, X_test, y_train, y_test = train_test_split(X,y,test_size=0.25)"
   ]
  },
  {
   "cell_type": "code",
   "execution_count": 27,
   "id": "d3249fe2",
   "metadata": {},
   "outputs": [],
   "source": [
    "from sklearn.preprocessing import MinMaxScaler\n",
    "##input data scaling\n",
    "scaler = MinMaxScaler()\n",
    "X_train= scaler.fit_transform(X_train)\n",
    "X_test= scaler.transform(X_test)"
   ]
  },
  {
   "cell_type": "code",
   "execution_count": 28,
   "id": "91507f3d",
   "metadata": {},
   "outputs": [],
   "source": [
    "##building the FNN model\n",
    "from tensorflow.keras.models import Sequential\n",
    "from tensorflow.keras.layers import Dense, Activation, Dropout, BatchNormalization\n",
    "from tensorflow.keras.optimizers import Adam\n",
    "\n",
    "#from tensorflow.keras.callacks import EarlyStopping\n",
    "\n",
    "model = Sequential()\n",
    "\n",
    "model.add(Dense(64,activation='relu'))\n",
    "model.add(BatchNormalization(center=True, scale=True))\n",
    "model.add(Dropout(0.3))\n",
    "\n",
    "model.add(Dense(128,activation='relu'))\n",
    "model.add(BatchNormalization(center=True, scale=True))\n",
    "model.add(Dropout(0.4))\n",
    "\n",
    "model.add(Dense(256,activation='relu'))\n",
    "model.add(BatchNormalization(center=True, scale=True))\n",
    "model.add(Dropout(0.3))\n",
    "\n",
    "model.add(Dense(512,activation='relu'))\n",
    "model.add(BatchNormalization(center=True, scale=True))\n",
    "model.add(Dropout(0.4))\n",
    "\n",
    "model.add(Dense(1024,activation='relu'))\n",
    "model.add(Dropout(0.3))\n",
    "\n",
    "model.add(Dense(1024,activation='relu'))\n",
    "model.add(BatchNormalization(center=True, scale=True))\n",
    "model.add(Dropout(0.3))\n",
    "\n",
    "model.add(Dense(128,activation='relu'))\n",
    "model.add(BatchNormalization(center=True, scale=True))\n",
    "model.add(Dropout(0.4))\n",
    "\n",
    "model.add(Dense(1,activation='relu'))\n",
    "model.compile(optimizer='adam',loss='mse')\n",
    "model.summary()"
   ]
  },
  {
   "cell_type": "code",
   "execution_count": null,
   "id": "fbba20cd",
   "metadata": {},
   "outputs": [],
   "source": [
    "## compiling and training the model\n",
    "\n",
    "model.fit(x=X_train,y=y_train,\n",
    "          validation_data=(X_test,y_test),\n",
    "          epochs=100)"
   ]
  },
  {
   "cell_type": "code",
   "execution_count": null,
   "id": "5bd3b73e",
   "metadata": {},
   "outputs": [],
   "source": [
    "## Calculating and plotting loss\n",
    "losses = pd.DataFrame(model.history.history)\n",
    "losses.plot()"
   ]
  },
  {
   "cell_type": "code",
   "execution_count": null,
   "id": "3ac80d5c",
   "metadata": {},
   "outputs": [],
   "source": [
    "## Evaluation of the model\n",
    "from sklearn.metrics import mean_squared_error,mean_absolute_error,explained_variance_score\n",
    "predictions = model.predict(X_test)\n",
    "print(mean_absolute_error(y_test,predictions))\n",
    "print(np.sqrt(mean_squared_error(y_test,predictions)))\n",
    "print(explained_variance_score(y_test,predictions))"
   ]
  },
  {
   "cell_type": "code",
   "execution_count": null,
   "id": "af17b9c8",
   "metadata": {},
   "outputs": [],
   "source": [
    "## plotting performance for evaluation dataset\n",
    "plt.figure(figsize=(9,9))\n",
    "plt.rc('xtick', labelsize=16)\n",
    "plt.rc('ytick', labelsize=16)\n",
    "plt.xlabel('Actual stress (MPa)', fontsize=20)\n",
    "plt.ylabel('Predicted stress (MPa)', fontsize=20)\n",
    "plt.scatter(y_test+400,predictions+400)\n",
    "plt.plot(y_test+400,y_test+400,'r')\n",
    "plt.savefig('FNN_uni.jpg')"
   ]
  },
  {
   "cell_type": "code",
   "execution_count": null,
   "id": "752bb928",
   "metadata": {},
   "outputs": [],
   "source": [
    "## plotting performance for training dataset\n",
    "plt.figure(figsize=(12,6))\n",
    "predictions2 = model.predict(X_train)\n",
    "plt.scatter(y_train,predictions2)\n",
    "plt.plot(y_train,y_train,'r')"
   ]
  },
  {
   "cell_type": "code",
   "execution_count": null,
   "id": "9cc5a043",
   "metadata": {},
   "outputs": [],
   "source": []
  },
  {
   "cell_type": "code",
   "execution_count": null,
   "id": "e2e5a2de",
   "metadata": {},
   "outputs": [],
   "source": []
  }
 ],
 "metadata": {
  "kernelspec": {
   "display_name": "Python 3",
   "language": "python",
   "name": "python3"
  },
  "language_info": {
   "codemirror_mode": {
    "name": "ipython",
    "version": 3
   },
   "file_extension": ".py",
   "mimetype": "text/x-python",
   "name": "python",
   "nbconvert_exporter": "python",
   "pygments_lexer": "ipython3",
   "version": "3.8.8"
  }
 },
 "nbformat": 4,
 "nbformat_minor": 5
}
